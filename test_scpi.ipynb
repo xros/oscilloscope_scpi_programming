{
 "cells": [
  {
   "cell_type": "code",
   "execution_count": 1,
   "id": "7b0fb212-0e10-4176-969a-bd9e4f1a66ac",
   "metadata": {},
   "outputs": [
    {
     "ename": "ModuleNotFoundError",
     "evalue": "No module named 'visa'",
     "output_type": "error",
     "traceback": [
      "\u001b[0;31m---------------------------------------------------------------------------\u001b[0m",
      "\u001b[0;31mModuleNotFoundError\u001b[0m                       Traceback (most recent call last)",
      "Cell \u001b[0;32mIn[1], line 1\u001b[0m\n\u001b[0;32m----> 1\u001b[0m \u001b[38;5;28;01mimport\u001b[39;00m \u001b[38;5;21;01mvisa\u001b[39;00m\n\u001b[1;32m      2\u001b[0m rm \u001b[38;5;241m=\u001b[39m visa\u001b[38;5;241m.\u001b[39mResourceManager(\u001b[38;5;124m'\u001b[39m\u001b[38;5;124m@py\u001b[39m\u001b[38;5;124m'\u001b[39m)\n\u001b[1;32m      3\u001b[0m \u001b[38;5;28mprint\u001b[39m(rm\u001b[38;5;241m.\u001b[39mlist_resources())\n",
      "\u001b[0;31mModuleNotFoundError\u001b[0m: No module named 'visa'"
     ]
    }
   ],
   "source": [
    "import visa\n",
    "rm = visa.ResourceManager('@py')\n",
    "print(rm.list_resources())"
   ]
  },
  {
   "cell_type": "code",
   "execution_count": null,
   "id": "551b2141-50cb-4481-9129-316cd687aee5",
   "metadata": {},
   "outputs": [],
   "source": []
  },
  {
   "cell_type": "code",
   "execution_count": null,
   "id": "c39eeee5-c765-4624-b890-798de7398444",
   "metadata": {},
   "outputs": [],
   "source": []
  }
 ],
 "metadata": {
  "kernelspec": {
   "display_name": "Python 3 (ipykernel)",
   "language": "python",
   "name": "python3"
  },
  "language_info": {
   "codemirror_mode": {
    "name": "ipython",
    "version": 3
   },
   "file_extension": ".py",
   "mimetype": "text/x-python",
   "name": "python",
   "nbconvert_exporter": "python",
   "pygments_lexer": "ipython3",
   "version": "3.11.9"
  }
 },
 "nbformat": 4,
 "nbformat_minor": 5
}

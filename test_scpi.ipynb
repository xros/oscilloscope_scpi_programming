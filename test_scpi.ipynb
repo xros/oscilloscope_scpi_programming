{
 "cells": [
  {
   "cell_type": "code",
   "execution_count": 6,
   "id": "7b0fb212-0e10-4176-969a-bd9e4f1a66ac",
   "metadata": {},
   "outputs": [
    {
     "name": "stdout",
     "output_type": "stream",
     "text": [
      "('TCPIP::10.31.0.225::INSTR',)\n"
     ]
    }
   ],
   "source": [
    "import pyvisa\n",
    "rm = pyvisa.ResourceManager('@py')\n",
    "print(rm.list_resources())"
   ]
  },
  {
   "cell_type": "code",
   "execution_count": 7,
   "id": "551b2141-50cb-4481-9129-316cd687aee5",
   "metadata": {},
   "outputs": [
    {
     "data": {
      "text/plain": [
       "'RIGOL TECHNOLOGIES,DHO924S,DHO9S261901755,00.01.02.00.02\\n'"
      ]
     },
     "execution_count": 7,
     "metadata": {},
     "output_type": "execute_result"
    }
   ],
   "source": [
    "inst = rm.open_resource('TCPIP::10.31.0.225::INSTR',)\n",
    "inst.query(\"*IDN?\")"
   ]
  },
  {
   "cell_type": "code",
   "execution_count": null,
   "id": "c39eeee5-c765-4624-b890-798de7398444",
   "metadata": {},
   "outputs": [],
   "source": []
  }
 ],
 "metadata": {
  "kernelspec": {
   "display_name": "Python 3 (ipykernel)",
   "language": "python",
   "name": "python3"
  },
  "language_info": {
   "codemirror_mode": {
    "name": "ipython",
    "version": 3
   },
   "file_extension": ".py",
   "mimetype": "text/x-python",
   "name": "python",
   "nbconvert_exporter": "python",
   "pygments_lexer": "ipython3",
   "version": "3.11.9"
  }
 },
 "nbformat": 4,
 "nbformat_minor": 5
}
